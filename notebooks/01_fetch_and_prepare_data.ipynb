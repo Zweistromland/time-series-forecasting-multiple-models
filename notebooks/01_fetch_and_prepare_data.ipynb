{
 "cells": [
  {
   "cell_type": "code",
   "execution_count": 3,
   "id": "b528378d-f1f9-4b23-a812-034ec6961876",
   "metadata": {},
   "outputs": [],
   "source": [
    "#Libraries; we import libraries here.\n",
    "\n",
    "import yfinance as yf\n",
    "import os\n",
    "import pandas as pd"
   ]
  },
  {
   "cell_type": "code",
   "execution_count": 4,
   "id": "6488e6e1-f6c2-4e9c-b68b-807e97f2b24c",
   "metadata": {},
   "outputs": [],
   "source": [
    "#I choose index stocks, top 10 stocks of market by the data of 30.04.2025, and some crypto stocks.\n",
    "\n",
    "TICKERS = [\n",
    "    \"SPY\", \"VOO\", \"QQQ\", \"VTI\", \"VUG\",             # Index ETFs\n",
    "    \"AAPL\", \"MSFT\", \"GOOGL\", \"AMZN\", \"NVDA\",       # Top 10 Stocks\n",
    "    \"TSLA\", \"BRK-B\", \"META\", \"XOM\", \"JPM\",         \n",
    "    \"BTC-USD\", \"ETH-USD\"                           # Crypto\n",
    "]"
   ]
  },
  {
   "cell_type": "code",
   "execution_count": 5,
   "id": "ef75a409-6799-4ee5-bdc2-484ed9c432ec",
   "metadata": {},
   "outputs": [],
   "source": [
    "#we gonna fetch the data by using yahoo api. now we define where to fetch data\n",
    "\n",
    "DATA_DIR = \"../data\"\n",
    "os.makedirs(DATA_DIR, exist_ok=True)\n"
   ]
  },
  {
   "cell_type": "code",
   "execution_count": 8,
   "id": "f1ded898-ce27-4347-9bf5-50cdb63a4d7a",
   "metadata": {},
   "outputs": [],
   "source": [
    "#let's create the function to fetch the data. To catch seas\n",
    "\n",
    "def fetch_data(ticker, start=\"2018-01-01\", end=\"2024-12-31\"):\n",
    "#choose 2018 because I wanna see covid effects and I am planning to use ARIMA(loves old data) etc.\n",
    "    print(f\"Fetching {ticker}...\")\n",
    "    try:\n",
    "        df = yf.download(ticker, start=start, end=end)\n",
    "        if df.empty:\n",
    "            print(f\"No data found for {ticker}\")\n",
    "        else:\n",
    "            file_path = os.path.join(DATA_DIR, f\"{ticker.replace('-', '_')}.csv\") # safe to use _\n",
    "            df.to_csv(file_path)\n",
    "            print(f\"Saved: {file_path}\")\n",
    "    except Exception as e:\n",
    "        print(f\"Failed to fetch {ticker}: {e}\")\n",
    "    \n",
    "    \n",
    "    "
   ]
  },
  {
   "cell_type": "code",
   "execution_count": 9,
   "id": "a4b637e8-ddb9-4a3e-806e-0cc059c33afb",
   "metadata": {},
   "outputs": [
    {
     "name": "stdout",
     "output_type": "stream",
     "text": [
      "Fetching SPY...\n",
      "YF.download() has changed argument auto_adjust default to True\n"
     ]
    },
    {
     "name": "stderr",
     "output_type": "stream",
     "text": [
      "[*********************100%***********************]  1 of 1 completed\n"
     ]
    },
    {
     "name": "stdout",
     "output_type": "stream",
     "text": [
      "Saved: ../data/SPY.csv\n",
      "Fetching VOO...\n"
     ]
    },
    {
     "name": "stderr",
     "output_type": "stream",
     "text": [
      "[*********************100%***********************]  1 of 1 completed\n"
     ]
    },
    {
     "name": "stdout",
     "output_type": "stream",
     "text": [
      "Saved: ../data/VOO.csv\n",
      "Fetching QQQ...\n"
     ]
    },
    {
     "name": "stderr",
     "output_type": "stream",
     "text": [
      "[*********************100%***********************]  1 of 1 completed\n"
     ]
    },
    {
     "name": "stdout",
     "output_type": "stream",
     "text": [
      "Saved: ../data/QQQ.csv\n",
      "Fetching VTI...\n"
     ]
    },
    {
     "name": "stderr",
     "output_type": "stream",
     "text": [
      "[*********************100%***********************]  1 of 1 completed\n"
     ]
    },
    {
     "name": "stdout",
     "output_type": "stream",
     "text": [
      "Saved: ../data/VTI.csv\n",
      "Fetching VUG...\n"
     ]
    },
    {
     "name": "stderr",
     "output_type": "stream",
     "text": [
      "[*********************100%***********************]  1 of 1 completed\n"
     ]
    },
    {
     "name": "stdout",
     "output_type": "stream",
     "text": [
      "Saved: ../data/VUG.csv\n",
      "Fetching AAPL...\n"
     ]
    },
    {
     "name": "stderr",
     "output_type": "stream",
     "text": [
      "[*********************100%***********************]  1 of 1 completed\n"
     ]
    },
    {
     "name": "stdout",
     "output_type": "stream",
     "text": [
      "Saved: ../data/AAPL.csv\n",
      "Fetching MSFT...\n"
     ]
    },
    {
     "name": "stderr",
     "output_type": "stream",
     "text": [
      "[*********************100%***********************]  1 of 1 completed\n"
     ]
    },
    {
     "name": "stdout",
     "output_type": "stream",
     "text": [
      "Saved: ../data/MSFT.csv\n",
      "Fetching GOOGL...\n"
     ]
    },
    {
     "name": "stderr",
     "output_type": "stream",
     "text": [
      "[*********************100%***********************]  1 of 1 completed\n"
     ]
    },
    {
     "name": "stdout",
     "output_type": "stream",
     "text": [
      "Saved: ../data/GOOGL.csv\n",
      "Fetching AMZN...\n"
     ]
    },
    {
     "name": "stderr",
     "output_type": "stream",
     "text": [
      "[*********************100%***********************]  1 of 1 completed\n"
     ]
    },
    {
     "name": "stdout",
     "output_type": "stream",
     "text": [
      "Saved: ../data/AMZN.csv\n",
      "Fetching NVDA...\n"
     ]
    },
    {
     "name": "stderr",
     "output_type": "stream",
     "text": [
      "[*********************100%***********************]  1 of 1 completed\n"
     ]
    },
    {
     "name": "stdout",
     "output_type": "stream",
     "text": [
      "Saved: ../data/NVDA.csv\n",
      "Fetching TSLA...\n"
     ]
    },
    {
     "name": "stderr",
     "output_type": "stream",
     "text": [
      "[*********************100%***********************]  1 of 1 completed\n"
     ]
    },
    {
     "name": "stdout",
     "output_type": "stream",
     "text": [
      "Saved: ../data/TSLA.csv\n",
      "Fetching BRK-B...\n"
     ]
    },
    {
     "name": "stderr",
     "output_type": "stream",
     "text": [
      "[*********************100%***********************]  1 of 1 completed\n"
     ]
    },
    {
     "name": "stdout",
     "output_type": "stream",
     "text": [
      "Saved: ../data/BRK_B.csv\n",
      "Fetching META...\n"
     ]
    },
    {
     "name": "stderr",
     "output_type": "stream",
     "text": [
      "[*********************100%***********************]  1 of 1 completed\n"
     ]
    },
    {
     "name": "stdout",
     "output_type": "stream",
     "text": [
      "Saved: ../data/META.csv\n",
      "Fetching XOM...\n"
     ]
    },
    {
     "name": "stderr",
     "output_type": "stream",
     "text": [
      "[*********************100%***********************]  1 of 1 completed\n"
     ]
    },
    {
     "name": "stdout",
     "output_type": "stream",
     "text": [
      "Saved: ../data/XOM.csv\n",
      "Fetching JPM...\n"
     ]
    },
    {
     "name": "stderr",
     "output_type": "stream",
     "text": [
      "[*********************100%***********************]  1 of 1 completed\n"
     ]
    },
    {
     "name": "stdout",
     "output_type": "stream",
     "text": [
      "Saved: ../data/JPM.csv\n",
      "Fetching BTC-USD...\n"
     ]
    },
    {
     "name": "stderr",
     "output_type": "stream",
     "text": [
      "[*********************100%***********************]  1 of 1 completed\n"
     ]
    },
    {
     "name": "stdout",
     "output_type": "stream",
     "text": [
      "Saved: ../data/BTC_USD.csv\n",
      "Fetching ETH-USD...\n"
     ]
    },
    {
     "name": "stderr",
     "output_type": "stream",
     "text": [
      "[*********************100%***********************]  1 of 1 completed"
     ]
    },
    {
     "name": "stdout",
     "output_type": "stream",
     "text": [
      "Saved: ../data/ETH_USD.csv\n"
     ]
    },
    {
     "name": "stderr",
     "output_type": "stream",
     "text": [
      "\n"
     ]
    }
   ],
   "source": [
    "for ticker in TICKERS:\n",
    "    fetch_data(ticker)"
   ]
  },
  {
   "cell_type": "code",
   "execution_count": null,
   "id": "730032d5-7a87-4c0c-8345-1ca7f1223a2e",
   "metadata": {},
   "outputs": [],
   "source": []
  }
 ],
 "metadata": {
  "kernelspec": {
   "display_name": "Python 3 (ipykernel)",
   "language": "python",
   "name": "python3"
  },
  "language_info": {
   "codemirror_mode": {
    "name": "ipython",
    "version": 3
   },
   "file_extension": ".py",
   "mimetype": "text/x-python",
   "name": "python",
   "nbconvert_exporter": "python",
   "pygments_lexer": "ipython3",
   "version": "3.10.17"
  }
 },
 "nbformat": 4,
 "nbformat_minor": 5
}
